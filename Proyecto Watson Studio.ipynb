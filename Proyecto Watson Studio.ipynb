{
    "cells": [
        {
            "cell_type": "markdown",
            "metadata": {
                "collapsed": true
            },
            "source": "# My Jupyter Notebook on IBM Watson Studio"
        },
        {
            "cell_type": "markdown",
            "metadata": {},
            "source": "**SERGIO JOSUE BENITEZ PERALTA**"
        },
        {
            "cell_type": "markdown",
            "metadata": {},
            "source": "you can start your first sentence with \u201cI am interested in data science because\u2026\u201d."
        },
        {
            "cell_type": "markdown",
            "metadata": {},
            "source": "*I am interested in data science because it allows us to solve problems based on data and thus predict future events.*"
        },
        {
            "cell_type": "markdown",
            "metadata": {},
            "source": "_Continuous learning is one of my motivations when choosing data science because through data I can learn new things that I did not know and base myself on them._"
        },
        {
            "cell_type": "code",
            "execution_count": 2,
            "metadata": {},
            "outputs": [
                {
                    "data": {
                        "text/plain": "2"
                    },
                    "execution_count": 2,
                    "metadata": {},
                    "output_type": "execute_result"
                }
            ],
            "source": "1+1"
        },
        {
            "cell_type": "markdown",
            "metadata": {},
            "source": "## Bullet List\n- Item 1\n- Item 2\n  - Sub-item 2.1\n  - Sub-item 2.2\n- Item 3"
        },
        {
            "cell_type": "markdown",
            "metadata": {},
            "source": "## Numbered List\n1. First item\n2. Second item\n3. Third item"
        },
        {
            "cell_type": "markdown",
            "metadata": {},
            "source": "## Table\n| Column 1 | Column 2 | Column 3 |\n|----------|----------|----------|\n| Row 1    | Data 1   | Data 2   |\n| Row 2    | Data 3   | Data 4   |\n| Row 3    | Data 5   | Data 6   |"
        },
        {
            "cell_type": "markdown",
            "metadata": {},
            "source": "## Hyperlink\n[Josue Benitez](https://www.linkedin.com/in/sergio-josue-49b3071a4/)"
        },
        {
            "cell_type": "markdown",
            "metadata": {},
            "source": "## Image\n![Alternative text](https://upload.wikimedia.org/wikipedia/commons/4/47/PNG_transparency_demonstration_1.png)"
        },
        {
            "cell_type": "code",
            "execution_count": null,
            "metadata": {},
            "outputs": [],
            "source": ""
        }
    ],
    "metadata": {
        "kernelspec": {
            "display_name": "Python 3.10",
            "language": "python",
            "name": "python3"
        },
        "language_info": {
            "codemirror_mode": {
                "name": "ipython",
                "version": 3
            },
            "file_extension": ".py",
            "mimetype": "text/x-python",
            "name": "python",
            "nbconvert_exporter": "python",
            "pygments_lexer": "ipython3",
            "version": "3.10.14"
        }
    },
    "nbformat": 4,
    "nbformat_minor": 1
}